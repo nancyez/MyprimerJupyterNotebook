{
  "metadata": {
    "widgets": {
      "application/vnd.jupyter.widget-state+json": {
        "version_major": 2,
        "version_minor": 0,
        "state": {}
      }
    },
    "language_info": {
      "codemirror_mode": {
        "name": "python",
        "version": 3
      },
      "file_extension": ".py",
      "mimetype": "text/x-python",
      "name": "python",
      "nbconvert_exporter": "python",
      "pygments_lexer": "ipython3",
      "version": "3.8"
    },
    "kernelspec": {
      "name": "python",
      "display_name": "Python (Pyodide)",
      "language": "python"
    }
  },
  "nbformat_minor": 4,
  "nbformat": 4,
  "cells": [
    {
      "cell_type": "markdown",
      "source": "#My Jupyter Notebook on IBM Watson Studio",
      "metadata": {}
    },
    {
      "cell_type": "markdown",
      "source": "**Nancy Pérez Reyes**",
      "metadata": {}
    },
    {
      "cell_type": "markdown",
      "source": "*Ingeneira en Ciencia de Datos*",
      "metadata": {}
    },
    {
      "cell_type": "markdown",
      "source": "*Estoy interesada en la Ciencia de Datos porque es una área diferente a las demás*",
      "metadata": {}
    },
    {
      "cell_type": "markdown",
      "source": "### El siguiente código es una suma sencilla de dos números ",
      "metadata": {}
    },
    {
      "cell_type": "code",
      "source": "a=5\nb=5\nsuma=a+b ",
      "metadata": {
        "trusted": true
      },
      "execution_count": 3,
      "outputs": []
    },
    {
      "cell_type": "code",
      "source": "suma",
      "metadata": {
        "trusted": true
      },
      "execution_count": 4,
      "outputs": [
        {
          "execution_count": 4,
          "output_type": "execute_result",
          "data": {
            "text/plain": "10"
          },
          "metadata": {}
        }
      ]
    },
    {
      "cell_type": "markdown",
      "source": "~~Amor~~\n* Honestidad\n* Seguridad\n* Confianza\n[link](https://dam.ngenespanol.com/wp-content/uploads/2021/07/GettyImages-169788211.jpg) \n",
      "metadata": {}
    }
  ]
}